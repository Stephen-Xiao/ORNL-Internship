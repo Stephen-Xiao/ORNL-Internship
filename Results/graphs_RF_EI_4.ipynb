{
 "cells": [
  {
   "cell_type": "code",
   "execution_count": 3,
   "id": "adebb4c2-1c67-46bd-8002-d8ee35399961",
   "metadata": {},
   "outputs": [
    {
     "ename": "FileNotFoundError",
     "evalue": "[Errno 2] No such file or directory: 'Results/results_RF_EI_4.npz'",
     "output_type": "error",
     "traceback": [
      "\u001b[1;31m---------------------------------------------------------------------------\u001b[0m",
      "\u001b[1;31mFileNotFoundError\u001b[0m                         Traceback (most recent call last)",
      "Cell \u001b[1;32mIn[3], line 5\u001b[0m\n\u001b[0;32m      3\u001b[0m \u001b[38;5;66;03m# Load the results file from the local \"Results\" folder\u001b[39;00m\n\u001b[0;32m      4\u001b[0m results_path \u001b[38;5;241m=\u001b[39m \u001b[38;5;124m\"\u001b[39m\u001b[38;5;124mResults/results_RF_EI_4.npz\u001b[39m\u001b[38;5;124m\"\u001b[39m\n\u001b[1;32m----> 5\u001b[0m results_data \u001b[38;5;241m=\u001b[39m np\u001b[38;5;241m.\u001b[39mload(results_path)\n\u001b[0;32m      7\u001b[0m \u001b[38;5;66;03m# List available keys in the results file\u001b[39;00m\n\u001b[0;32m      8\u001b[0m results_keys \u001b[38;5;241m=\u001b[39m results_data\u001b[38;5;241m.\u001b[39mfiles\n",
      "File \u001b[1;32m~\\AppData\\Local\\anaconda3\\Lib\\site-packages\\numpy\\lib\\npyio.py:427\u001b[0m, in \u001b[0;36mload\u001b[1;34m(file, mmap_mode, allow_pickle, fix_imports, encoding, max_header_size)\u001b[0m\n\u001b[0;32m    425\u001b[0m     own_fid \u001b[38;5;241m=\u001b[39m \u001b[38;5;28;01mFalse\u001b[39;00m\n\u001b[0;32m    426\u001b[0m \u001b[38;5;28;01melse\u001b[39;00m:\n\u001b[1;32m--> 427\u001b[0m     fid \u001b[38;5;241m=\u001b[39m stack\u001b[38;5;241m.\u001b[39menter_context(\u001b[38;5;28mopen\u001b[39m(os_fspath(file), \u001b[38;5;124m\"\u001b[39m\u001b[38;5;124mrb\u001b[39m\u001b[38;5;124m\"\u001b[39m))\n\u001b[0;32m    428\u001b[0m     own_fid \u001b[38;5;241m=\u001b[39m \u001b[38;5;28;01mTrue\u001b[39;00m\n\u001b[0;32m    430\u001b[0m \u001b[38;5;66;03m# Code to distinguish from NumPy binary files and pickles.\u001b[39;00m\n",
      "\u001b[1;31mFileNotFoundError\u001b[0m: [Errno 2] No such file or directory: 'Results/results_RF_EI_4.npz'"
     ]
    }
   ],
   "source": [
    "import numpy as np\n",
    "\n",
    "# Load the results file from the local \"Results\" folder\n",
    "results_path = \"Results/results_RF_EI_4.npz\"\n",
    "results_data = np.load(results_path)\n",
    "\n",
    "# List available keys in the results file\n",
    "results_keys = results_data.files\n",
    "\n",
    "print(results_keys)\n"
   ]
  },
  {
   "cell_type": "code",
   "execution_count": null,
   "id": "e2b7aee1-02f5-4abd-b4b8-47df4874d4a5",
   "metadata": {},
   "outputs": [],
   "source": [
    "import matplotlib.pyplot as plt\n",
    "\n",
    "# Extract relevant data\n",
    "bests = results_data['bests']\n",
    "mean_best_deltaE = bests.mean(axis=0)\n",
    "\n",
    "\n",
    "# Plotting average deltaE vs. batch number\n",
    "plt.figure(figsize=(8, 5))\n",
    "plt.plot(range(1, len(mean_best_deltaE) + 1), mean_best_deltaE, marker='o')\n",
    "plt.xlabel(\"Batch Number\")\n",
    "plt.ylabel(\"Mean Best ΔE\")\n",
    "plt.title(\"mean Best ΔE vs Batch Number\")\n",
    "plt.grid(True)\n",
    "plt.tight_layout()\n",
    "plt.show()\n"
   ]
  },
  {
   "cell_type": "code",
   "execution_count": null,
   "id": "6853c9fa-14b6-4278-8ec4-e87b5e4e7745",
   "metadata": {},
   "outputs": [],
   "source": [
    "import numpy as np\n",
    "import matplotlib.pyplot as plt\n",
    "from mpl_toolkits.mplot3d import Axes3D\n",
    "\n",
    "# Load data\n",
    "results = np.load(\"Results/results_RF_EI_4.npz\")\n",
    "gamut = np.load(\"uniform_lab_from_rgb.npy\")\n",
    "\n",
    "Xs = results[\"Xs\"]  # shape: (num_trials, num_batches, batch_size, 3)\n",
    "\n",
    "trial_index = 0  # choose one trial to visualize\n",
    "lab_points = Xs[trial_index]  # shape: (num_batches, batch_size, 3)\n",
    "\n",
    "# Flatten all suggested colors in order\n",
    "trajectory = lab_points.reshape(-1, 3)  # shape: (num_batches * batch_size, 3)\n",
    "\n",
    "# Plot\n",
    "fig = plt.figure(figsize=(10, 8))\n",
    "ax = fig.add_subplot(111, projection='3d')\n",
    "\n",
    "# Accessible gamut\n",
    "ax.scatter(gamut[:, 0], gamut[:, 1], gamut[:, 2], c='lightgray', s=1, alpha=0.3, label='Accessible Gamut')\n",
    "\n",
    "# Suggested trajectory\n",
    "ax.plot(trajectory[:, 0], trajectory[:, 1], trajectory[:, 2],\n",
    "        marker='o', color='red', linewidth=1.5, label='Suggested Colors')\n",
    "\n",
    "# Labels\n",
    "ax.set_xlabel('L*')\n",
    "ax.set_ylabel('a*')\n",
    "ax.set_zlabel('b*')\n",
    "ax.set_title(f'ML Suggested Color Trajectory (Trial {trial_index + 1})')\n",
    "ax.legend()\n",
    "plt.tight_layout()\n",
    "plt.show()\n"
   ]
  }
 ],
 "metadata": {
  "kernelspec": {
   "display_name": "Python 3 (ipykernel)",
   "language": "python",
   "name": "python3"
  },
  "language_info": {
   "codemirror_mode": {
    "name": "ipython",
    "version": 3
   },
   "file_extension": ".py",
   "mimetype": "text/x-python",
   "name": "python",
   "nbconvert_exporter": "python",
   "pygments_lexer": "ipython3",
   "version": "3.12.7"
  }
 },
 "nbformat": 4,
 "nbformat_minor": 5
}
